{
 "cells": [
  {
   "cell_type": "code",
   "execution_count": 1,
   "id": "b0a74b4c",
   "metadata": {},
   "outputs": [],
   "source": [
    "import pypdf"
   ]
  },
  {
   "cell_type": "code",
   "execution_count": 2,
   "id": "f2de1892",
   "metadata": {},
   "outputs": [
    {
     "name": "stdout",
     "output_type": "stream",
     "text": [
      "5.5.0\n"
     ]
    }
   ],
   "source": [
    "print(pypdf.__version__)"
   ]
  },
  {
   "cell_type": "code",
   "execution_count": 3,
   "id": "63fd1339",
   "metadata": {},
   "outputs": [],
   "source": [
    "src_pdf = pypdf.PdfReader('data/src/pdf/sample1.pdf')\n",
    "dst_pdf = pypdf.PdfWriter(clone_from=src_pdf)"
   ]
  },
  {
   "cell_type": "code",
   "execution_count": 4,
   "id": "63607637",
   "metadata": {},
   "outputs": [],
   "source": [
    "new_metadata = {\n",
    "    '/Title': 'new title',\n",
    "    '/Producer': 'new producer',\n",
    "    '/NewItem': 'special data'\n",
    "}"
   ]
  },
  {
   "cell_type": "code",
   "execution_count": 5,
   "id": "9946e6cd",
   "metadata": {},
   "outputs": [
    {
     "name": "stdout",
     "output_type": "stream",
     "text": [
      "{'/Title': 'new title', '/Producer': 'new producer', '/Creator': IndirectObject(35, 0, 4398476304), '/CreationDate': IndirectObject(36, 0, 4398476304), '/ModDate': IndirectObject(36, 0, 4398476304), '/NewItem': 'special data'}\n"
     ]
    }
   ],
   "source": [
    "dst_pdf.add_metadata(new_metadata)\n",
    "dst_pdf.write('data/temp/sample1_new_meta.pdf')\n",
    "\n",
    "print(pypdf.PdfReader('data/temp/sample1_new_meta.pdf').metadata)"
   ]
  },
  {
   "cell_type": "code",
   "execution_count": 6,
   "id": "bf157cbd",
   "metadata": {},
   "outputs": [
    {
     "name": "stdout",
     "output_type": "stream",
     "text": [
      "{'/Title': 'new title', '/Producer': 'new producer', '/NewItem': 'special data'}\n"
     ]
    }
   ],
   "source": [
    "dst_pdf.metadata = new_metadata\n",
    "dst_pdf.write('data/temp/sample1_new_meta_replace.pdf')\n",
    "\n",
    "print(pypdf.PdfReader('data/temp/sample1_new_meta_replace.pdf').metadata)"
   ]
  }
 ],
 "metadata": {
  "kernelspec": {
   "display_name": "Python 3",
   "language": "python",
   "name": "python3"
  },
  "language_info": {
   "codemirror_mode": {
    "name": "ipython",
    "version": 3
   },
   "file_extension": ".py",
   "mimetype": "text/x-python",
   "name": "python",
   "nbconvert_exporter": "python",
   "pygments_lexer": "ipython3",
   "version": "3.13.3"
  }
 },
 "nbformat": 4,
 "nbformat_minor": 5
}
