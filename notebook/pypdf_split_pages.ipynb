{
 "cells": [
  {
   "cell_type": "code",
   "execution_count": 1,
   "id": "d7733764",
   "metadata": {},
   "outputs": [],
   "source": [
    "import pypdf"
   ]
  },
  {
   "cell_type": "code",
   "execution_count": 2,
   "id": "ae23d74a",
   "metadata": {},
   "outputs": [
    {
     "name": "stdout",
     "output_type": "stream",
     "text": [
      "5.5.0\n"
     ]
    }
   ],
   "source": [
    "print(pypdf.__version__)"
   ]
  },
  {
   "cell_type": "code",
   "execution_count": 3,
   "id": "581c2340",
   "metadata": {},
   "outputs": [],
   "source": [
    "def split_pdf_pages(src_path, dst_basepath):\n",
    "    src_pdf = pypdf.PdfReader(src_path)\n",
    "    for i, page in enumerate(src_pdf.pages):\n",
    "        dst_pdf = pypdf.PdfWriter()\n",
    "        dst_pdf.add_page(page)\n",
    "        dst_pdf.write(f'{dst_basepath}_{i}.pdf')"
   ]
  },
  {
   "cell_type": "code",
   "execution_count": 4,
   "id": "219878d0",
   "metadata": {},
   "outputs": [],
   "source": [
    "split_pdf_pages('data/src/pdf/sample1.pdf', 'data/temp/sample1')"
   ]
  }
 ],
 "metadata": {
  "kernelspec": {
   "display_name": "Python 3",
   "language": "python",
   "name": "python3"
  },
  "language_info": {
   "codemirror_mode": {
    "name": "ipython",
    "version": 3
   },
   "file_extension": ".py",
   "mimetype": "text/x-python",
   "name": "python",
   "nbconvert_exporter": "python",
   "pygments_lexer": "ipython3",
   "version": "3.13.3"
  }
 },
 "nbformat": 4,
 "nbformat_minor": 5
}
