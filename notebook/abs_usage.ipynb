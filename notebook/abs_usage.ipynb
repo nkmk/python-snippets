{
 "cells": [
  {
   "cell_type": "code",
   "execution_count": 1,
   "id": "4e2e4d42",
   "metadata": {},
   "outputs": [
    {
     "name": "stdout",
     "output_type": "stream",
     "text": [
      "100\n"
     ]
    }
   ],
   "source": [
    "print(abs(100))"
   ]
  },
  {
   "cell_type": "code",
   "execution_count": 2,
   "id": "89e1e981",
   "metadata": {},
   "outputs": [
    {
     "name": "stdout",
     "output_type": "stream",
     "text": [
      "100\n"
     ]
    }
   ],
   "source": [
    "print(abs(-100))"
   ]
  },
  {
   "cell_type": "code",
   "execution_count": 3,
   "id": "cdf4c0a6",
   "metadata": {},
   "outputs": [
    {
     "name": "stdout",
     "output_type": "stream",
     "text": [
      "<class 'int'>\n"
     ]
    }
   ],
   "source": [
    "print(type(abs(100)))"
   ]
  },
  {
   "cell_type": "code",
   "execution_count": 4,
   "id": "3f3570c8",
   "metadata": {},
   "outputs": [
    {
     "name": "stdout",
     "output_type": "stream",
     "text": [
      "1.23\n"
     ]
    }
   ],
   "source": [
    "print(abs(1.23))"
   ]
  },
  {
   "cell_type": "code",
   "execution_count": 5,
   "id": "e214d886",
   "metadata": {},
   "outputs": [
    {
     "name": "stdout",
     "output_type": "stream",
     "text": [
      "1.23\n"
     ]
    }
   ],
   "source": [
    "print(abs(-1.23))"
   ]
  },
  {
   "cell_type": "code",
   "execution_count": 6,
   "id": "e197c49a",
   "metadata": {},
   "outputs": [
    {
     "name": "stdout",
     "output_type": "stream",
     "text": [
      "<class 'float'>\n"
     ]
    }
   ],
   "source": [
    "print(type(abs(1.23)))"
   ]
  },
  {
   "cell_type": "code",
   "execution_count": 7,
   "id": "1eda43b0",
   "metadata": {},
   "outputs": [
    {
     "name": "stdout",
     "output_type": "stream",
     "text": [
      "1.4142135623730951\n"
     ]
    }
   ],
   "source": [
    "print(abs(1 + 1j))"
   ]
  },
  {
   "cell_type": "code",
   "execution_count": 8,
   "id": "4829dd2e",
   "metadata": {},
   "outputs": [
    {
     "name": "stdout",
     "output_type": "stream",
     "text": [
      "5.0\n"
     ]
    }
   ],
   "source": [
    "print(abs(3 + 4j))"
   ]
  },
  {
   "cell_type": "code",
   "execution_count": 9,
   "id": "ed116ab6",
   "metadata": {},
   "outputs": [
    {
     "name": "stdout",
     "output_type": "stream",
     "text": [
      "<class 'float'>\n"
     ]
    }
   ],
   "source": [
    "print(type(abs(3 + 4j)))"
   ]
  },
  {
   "cell_type": "code",
   "execution_count": 10,
   "id": "777f2be9",
   "metadata": {},
   "outputs": [
    {
     "name": "stdout",
     "output_type": "stream",
     "text": [
      "100\n"
     ]
    }
   ],
   "source": [
    "print((-100).__abs__())"
   ]
  },
  {
   "cell_type": "code",
   "execution_count": 11,
   "id": "eafb9997",
   "metadata": {},
   "outputs": [
    {
     "name": "stdout",
     "output_type": "stream",
     "text": [
      "1.23\n"
     ]
    }
   ],
   "source": [
    "print((-1.23).__abs__())"
   ]
  },
  {
   "cell_type": "code",
   "execution_count": 12,
   "id": "749ce5cb",
   "metadata": {},
   "outputs": [
    {
     "name": "stdout",
     "output_type": "stream",
     "text": [
      "5.0\n"
     ]
    }
   ],
   "source": [
    "print((3 + 4j).__abs__())"
   ]
  },
  {
   "cell_type": "code",
   "execution_count": 13,
   "id": "1ba94640",
   "metadata": {},
   "outputs": [],
   "source": [
    "l = [-2, -1, 0, 1, 2]"
   ]
  },
  {
   "cell_type": "code",
   "execution_count": 14,
   "id": "d5f52178",
   "metadata": {},
   "outputs": [
    {
     "name": "stdout",
     "output_type": "stream",
     "text": [
      "False\n"
     ]
    }
   ],
   "source": [
    "print(hasattr(l, '__abs__'))"
   ]
  },
  {
   "cell_type": "code",
   "execution_count": 15,
   "id": "07262963",
   "metadata": {},
   "outputs": [],
   "source": [
    "# print(abs(l))\n",
    "# TypeError: bad operand type for abs(): 'list'"
   ]
  },
  {
   "cell_type": "code",
   "execution_count": 16,
   "id": "efa92c64",
   "metadata": {},
   "outputs": [],
   "source": [
    "class MyClass:\n",
    "    def __abs__(self):\n",
    "        return 100"
   ]
  },
  {
   "cell_type": "code",
   "execution_count": 17,
   "id": "f07cd875",
   "metadata": {},
   "outputs": [],
   "source": [
    "mc = MyClass()"
   ]
  },
  {
   "cell_type": "code",
   "execution_count": 18,
   "id": "78bccf10",
   "metadata": {},
   "outputs": [
    {
     "name": "stdout",
     "output_type": "stream",
     "text": [
      "100\n"
     ]
    }
   ],
   "source": [
    "print(abs(mc))"
   ]
  },
  {
   "cell_type": "code",
   "execution_count": 19,
   "id": "ca7a2083",
   "metadata": {},
   "outputs": [
    {
     "name": "stdout",
     "output_type": "stream",
     "text": [
      "[2, 1, 0, 1, 2]\n"
     ]
    }
   ],
   "source": [
    "print([abs(i) for i in l])"
   ]
  }
 ],
 "metadata": {
  "kernelspec": {
   "display_name": "Python 3",
   "language": "python",
   "name": "python3"
  },
  "language_info": {
   "codemirror_mode": {
    "name": "ipython",
    "version": 3
   },
   "file_extension": ".py",
   "mimetype": "text/x-python",
   "name": "python",
   "nbconvert_exporter": "python",
   "pygments_lexer": "ipython3",
   "version": "3.13.3"
  }
 },
 "nbformat": 4,
 "nbformat_minor": 5
}
