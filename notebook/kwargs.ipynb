{
 "cells": [
  {
   "cell_type": "code",
   "execution_count": 1,
   "metadata": {},
   "outputs": [],
   "source": [
    "def func_kwargs(**kwargs):\n",
    "    print('kwargs: ', kwargs)\n",
    "    print('type: ', type(kwargs))"
   ]
  },
  {
   "cell_type": "code",
   "execution_count": 2,
   "metadata": {},
   "outputs": [
    {
     "name": "stdout",
     "output_type": "stream",
     "text": [
      "kwargs:  {'key1': 1, 'key2': 2, 'key3': 3}\n",
      "type:  <class 'dict'>\n"
     ]
    }
   ],
   "source": [
    "func_kwargs(key1=1, key2=2, key3=3)"
   ]
  },
  {
   "cell_type": "code",
   "execution_count": 3,
   "metadata": {},
   "outputs": [],
   "source": [
    "def func_kwargs_positional(arg1, arg2, **kwargs):\n",
    "    print('arg1: ', arg1)\n",
    "    print('arg2: ', arg2)\n",
    "    print('kwargs: ', kwargs)"
   ]
  },
  {
   "cell_type": "code",
   "execution_count": 4,
   "metadata": {},
   "outputs": [
    {
     "name": "stdout",
     "output_type": "stream",
     "text": [
      "arg1:  0\n",
      "arg2:  1\n",
      "kwargs:  {'key1': 1}\n"
     ]
    }
   ],
   "source": [
    "func_kwargs_positional(0, 1, key1=1)"
   ]
  },
  {
   "cell_type": "code",
   "execution_count": 5,
   "metadata": {},
   "outputs": [],
   "source": [
    "d = {'key1': 1, 'key2': 2, 'arg1': 100, 'arg2': 200}"
   ]
  },
  {
   "cell_type": "code",
   "execution_count": 6,
   "metadata": {},
   "outputs": [
    {
     "name": "stdout",
     "output_type": "stream",
     "text": [
      "arg1:  100\n",
      "arg2:  200\n",
      "kwargs:  {'key1': 1, 'key2': 2}\n"
     ]
    }
   ],
   "source": [
    "func_kwargs_positional(**d)"
   ]
  },
  {
   "cell_type": "code",
   "execution_count": 7,
   "metadata": {},
   "outputs": [],
   "source": [
    "# def func_kwargs_error(**kwargs, arg):\n",
    "#     print(kwargs)\n",
    "\n",
    "# SyntaxError: arguments cannot follow var-keyword argument"
   ]
  }
 ],
 "metadata": {
  "kernelspec": {
   "display_name": "Python 3",
   "language": "python",
   "name": "python3"
  },
  "language_info": {
   "codemirror_mode": {
    "name": "ipython",
    "version": 3
   },
   "file_extension": ".py",
   "mimetype": "text/x-python",
   "name": "python",
   "nbconvert_exporter": "python",
   "pygments_lexer": "ipython3",
   "version": "3.13.3"
  }
 },
 "nbformat": 4,
 "nbformat_minor": 2
}
