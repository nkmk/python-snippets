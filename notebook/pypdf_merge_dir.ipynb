{
 "cells": [
  {
   "cell_type": "code",
   "execution_count": 1,
   "id": "f8c77a33",
   "metadata": {},
   "outputs": [],
   "source": [
    "import pypdf"
   ]
  },
  {
   "cell_type": "code",
   "execution_count": 2,
   "id": "a13ac57c",
   "metadata": {},
   "outputs": [
    {
     "name": "stdout",
     "output_type": "stream",
     "text": [
      "5.5.0\n"
     ]
    }
   ],
   "source": [
    "print(pypdf.__version__)"
   ]
  },
  {
   "cell_type": "code",
   "execution_count": 3,
   "id": "57e5fb8d",
   "metadata": {},
   "outputs": [],
   "source": [
    "import glob\n",
    "import os"
   ]
  },
  {
   "cell_type": "code",
   "execution_count": 4,
   "id": "14692363",
   "metadata": {},
   "outputs": [],
   "source": [
    "def merge_pdf_in_dir(dir_path, dst_path):\n",
    "    l = glob.glob(os.path.join(dir_path, '*.pdf'))\n",
    "    l.sort()\n",
    "\n",
    "    writer = pypdf.PdfWriter()\n",
    "    for p in l:\n",
    "        if not pypdf.PdfReader(p).is_encrypted:\n",
    "            writer.append(p)\n",
    "\n",
    "    writer.write(dst_path)"
   ]
  },
  {
   "cell_type": "code",
   "execution_count": 5,
   "id": "a6822840",
   "metadata": {},
   "outputs": [],
   "source": [
    "merge_pdf_in_dir('data/src/pdf', 'data/temp/sample_dir.pdf')"
   ]
  }
 ],
 "metadata": {
  "kernelspec": {
   "display_name": "Python 3",
   "language": "python",
   "name": "python3"
  },
  "language_info": {
   "codemirror_mode": {
    "name": "ipython",
    "version": 3
   },
   "file_extension": ".py",
   "mimetype": "text/x-python",
   "name": "python",
   "nbconvert_exporter": "python",
   "pygments_lexer": "ipython3",
   "version": "3.13.3"
  }
 },
 "nbformat": 4,
 "nbformat_minor": 5
}
