{
 "cells": [
  {
   "cell_type": "code",
   "execution_count": 1,
   "id": "8709877f",
   "metadata": {},
   "outputs": [],
   "source": [
    "import math"
   ]
  },
  {
   "cell_type": "code",
   "execution_count": 2,
   "id": "e207f793",
   "metadata": {},
   "outputs": [
    {
     "name": "stdout",
     "output_type": "stream",
     "text": [
      "100.0\n"
     ]
    }
   ],
   "source": [
    "print(math.fabs(-100))"
   ]
  },
  {
   "cell_type": "code",
   "execution_count": 3,
   "id": "5f06fd26",
   "metadata": {},
   "outputs": [
    {
     "name": "stdout",
     "output_type": "stream",
     "text": [
      "<class 'float'>\n"
     ]
    }
   ],
   "source": [
    "print(type(math.fabs(-100)))"
   ]
  },
  {
   "cell_type": "code",
   "execution_count": 4,
   "id": "7cf278dd",
   "metadata": {},
   "outputs": [
    {
     "name": "stdout",
     "output_type": "stream",
     "text": [
      "1.23\n"
     ]
    }
   ],
   "source": [
    "print(math.fabs(-1.23))"
   ]
  },
  {
   "cell_type": "code",
   "execution_count": 5,
   "id": "81db1f5d",
   "metadata": {},
   "outputs": [
    {
     "name": "stdout",
     "output_type": "stream",
     "text": [
      "<class 'float'>\n"
     ]
    }
   ],
   "source": [
    "print(type(math.fabs(-1.23)))"
   ]
  },
  {
   "cell_type": "code",
   "execution_count": 6,
   "id": "830f84de",
   "metadata": {},
   "outputs": [],
   "source": [
    "# print(math.fabs(3 + 4j))\n",
    "# TypeError: must be real number, not complex"
   ]
  },
  {
   "cell_type": "code",
   "execution_count": 7,
   "id": "8220e58a",
   "metadata": {},
   "outputs": [],
   "source": [
    "class MyClass:\n",
    "    def __abs__(self):\n",
    "        return 100"
   ]
  },
  {
   "cell_type": "code",
   "execution_count": 8,
   "id": "07daee0f",
   "metadata": {},
   "outputs": [],
   "source": [
    "mc = MyClass()"
   ]
  },
  {
   "cell_type": "code",
   "execution_count": 9,
   "id": "e7aaf053",
   "metadata": {},
   "outputs": [],
   "source": [
    "# math.fabs(mc)\n",
    "# TypeError: must be real number, not MyClass"
   ]
  }
 ],
 "metadata": {
  "kernelspec": {
   "display_name": "Python 3",
   "language": "python",
   "name": "python3"
  },
  "language_info": {
   "codemirror_mode": {
    "name": "ipython",
    "version": 3
   },
   "file_extension": ".py",
   "mimetype": "text/x-python",
   "name": "python",
   "nbconvert_exporter": "python",
   "pygments_lexer": "ipython3",
   "version": "3.13.3"
  }
 },
 "nbformat": 4,
 "nbformat_minor": 5
}
