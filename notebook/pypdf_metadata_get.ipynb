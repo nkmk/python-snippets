{
 "cells": [
  {
   "cell_type": "code",
   "execution_count": 1,
   "id": "431d51a2",
   "metadata": {},
   "outputs": [],
   "source": [
    "import pypdf"
   ]
  },
  {
   "cell_type": "code",
   "execution_count": 2,
   "id": "f12c0f17",
   "metadata": {},
   "outputs": [
    {
     "name": "stdout",
     "output_type": "stream",
     "text": [
      "5.5.0\n"
     ]
    }
   ],
   "source": [
    "print(pypdf.__version__)"
   ]
  },
  {
   "cell_type": "code",
   "execution_count": 3,
   "id": "e7fde8c1",
   "metadata": {},
   "outputs": [],
   "source": [
    "pdf = pypdf.PdfReader('data/src/pdf/sample1.pdf')"
   ]
  },
  {
   "cell_type": "code",
   "execution_count": 4,
   "id": "2b29a045",
   "metadata": {},
   "outputs": [
    {
     "name": "stdout",
     "output_type": "stream",
     "text": [
      "<class 'pypdf._doc_common.DocumentInformation'>\n"
     ]
    }
   ],
   "source": [
    "print(type(pdf.metadata))"
   ]
  },
  {
   "cell_type": "code",
   "execution_count": 5,
   "id": "01a854ea",
   "metadata": {},
   "outputs": [
    {
     "name": "stdout",
     "output_type": "stream",
     "text": [
      "sample1\n"
     ]
    }
   ],
   "source": [
    "print(pdf.metadata.title)"
   ]
  },
  {
   "cell_type": "code",
   "execution_count": 6,
   "id": "407e33e2",
   "metadata": {},
   "outputs": [
    {
     "name": "stdout",
     "output_type": "stream",
     "text": [
      "True\n"
     ]
    }
   ],
   "source": [
    "print(isinstance(pdf.metadata, dict))"
   ]
  },
  {
   "cell_type": "code",
   "execution_count": 7,
   "id": "024bed4e",
   "metadata": {},
   "outputs": [
    {
     "name": "stdout",
     "output_type": "stream",
     "text": [
      "{'/Title': IndirectObject(33, 0, 4424533392), '/Producer': IndirectObject(34, 0, 4424533392), '/Creator': IndirectObject(35, 0, 4424533392), '/CreationDate': IndirectObject(36, 0, 4424533392), '/ModDate': IndirectObject(36, 0, 4424533392)}\n"
     ]
    }
   ],
   "source": [
    "print(pdf.metadata)"
   ]
  },
  {
   "cell_type": "code",
   "execution_count": 8,
   "id": "c8501ab6",
   "metadata": {},
   "outputs": [
    {
     "name": "stdout",
     "output_type": "stream",
     "text": [
      "sample1\n"
     ]
    }
   ],
   "source": [
    "print(pdf.metadata['/Title'])"
   ]
  },
  {
   "cell_type": "code",
   "execution_count": 9,
   "id": "e07cca07",
   "metadata": {},
   "outputs": [
    {
     "name": "stdout",
     "output_type": "stream",
     "text": [
      "/Title: sample1\n",
      "/Producer: macOS バージョン10.14.2（ビルド18C54） Quartz PDFContext\n",
      "/Creator: Keynote\n",
      "/CreationDate: D:20190114072947Z00'00'\n",
      "/ModDate: D:20190114072947Z00'00'\n"
     ]
    }
   ],
   "source": [
    "for k, v in pdf.metadata.items():\n",
    "    print(f'{k}: {v}')"
   ]
  }
 ],
 "metadata": {
  "kernelspec": {
   "display_name": "Python 3",
   "language": "python",
   "name": "python3"
  },
  "language_info": {
   "codemirror_mode": {
    "name": "ipython",
    "version": 3
   },
   "file_extension": ".py",
   "mimetype": "text/x-python",
   "name": "python",
   "nbconvert_exporter": "python",
   "pygments_lexer": "ipython3",
   "version": "3.13.3"
  }
 },
 "nbformat": 4,
 "nbformat_minor": 5
}
