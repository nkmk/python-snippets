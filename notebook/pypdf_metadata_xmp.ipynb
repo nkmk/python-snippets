{
 "cells": [
  {
   "cell_type": "code",
   "execution_count": 1,
   "id": "e8bf1a06",
   "metadata": {},
   "outputs": [],
   "source": [
    "import pypdf"
   ]
  },
  {
   "cell_type": "code",
   "execution_count": 2,
   "id": "26855744",
   "metadata": {},
   "outputs": [
    {
     "name": "stdout",
     "output_type": "stream",
     "text": [
      "5.5.0\n"
     ]
    }
   ],
   "source": [
    "print(pypdf.__version__)"
   ]
  },
  {
   "cell_type": "code",
   "execution_count": 3,
   "id": "90bd9df1",
   "metadata": {},
   "outputs": [
    {
     "name": "stdout",
     "output_type": "stream",
     "text": [
      "None\n"
     ]
    }
   ],
   "source": [
    "pdf = pypdf.PdfReader('data/temp/Simple PDF 2.0 file.pdf')\n",
    "print(pdf.metadata)"
   ]
  },
  {
   "cell_type": "code",
   "execution_count": 4,
   "id": "17522528",
   "metadata": {},
   "outputs": [
    {
     "name": "stdout",
     "output_type": "stream",
     "text": [
      "<class 'pypdf.xmp.XmpInformation'>\n"
     ]
    }
   ],
   "source": [
    "print(type(pdf.xmp_metadata))"
   ]
  },
  {
   "cell_type": "code",
   "execution_count": 5,
   "id": "3a1b5198",
   "metadata": {},
   "outputs": [
    {
     "name": "stdout",
     "output_type": "stream",
     "text": [
      "{'x-default': 'A simple PDF 2.0 example file'}\n"
     ]
    }
   ],
   "source": [
    "print(pdf.xmp_metadata.dc_title)"
   ]
  },
  {
   "cell_type": "code",
   "execution_count": 6,
   "id": "721ae0c0",
   "metadata": {},
   "outputs": [
    {
     "name": "stdout",
     "output_type": "stream",
     "text": [
      "PDF 2.0 sample example\n"
     ]
    }
   ],
   "source": [
    "print(pdf.xmp_metadata.pdf_keywords)"
   ]
  },
  {
   "cell_type": "code",
   "execution_count": 7,
   "id": "61613529",
   "metadata": {},
   "outputs": [
    {
     "name": "stdout",
     "output_type": "stream",
     "text": [
      "2017-07-11 07:55:11\n"
     ]
    }
   ],
   "source": [
    "print(pdf.xmp_metadata.xmp_metadata_date)"
   ]
  }
 ],
 "metadata": {
  "kernelspec": {
   "display_name": "Python 3",
   "language": "python",
   "name": "python3"
  },
  "language_info": {
   "codemirror_mode": {
    "name": "ipython",
    "version": 3
   },
   "file_extension": ".py",
   "mimetype": "text/x-python",
   "name": "python",
   "nbconvert_exporter": "python",
   "pygments_lexer": "ipython3",
   "version": "3.13.3"
  }
 },
 "nbformat": 4,
 "nbformat_minor": 5
}
