{
 "cells": [
  {
   "cell_type": "code",
   "execution_count": 1,
   "id": "12784697",
   "metadata": {},
   "outputs": [
    {
     "name": "stdout",
     "output_type": "stream",
     "text": [
      "Start\n"
     ]
    }
   ],
   "source": [
    "python sys_exit.py"
   ]
  },
  {
   "cell_type": "code",
   "execution_count": 2,
   "id": "8e1a90fb",
   "metadata": {},
   "outputs": [
    {
     "name": "stdout",
     "output_type": "stream",
     "text": [
      "Start\n",
      "Continue\n"
     ]
    }
   ],
   "source": [
    "python sys_exit_if.py"
   ]
  },
  {
   "cell_type": "code",
   "execution_count": 3,
   "id": "a75eec12",
   "metadata": {},
   "outputs": [
    {
     "name": "stdout",
     "output_type": "stream",
     "text": [
      "Error message\n"
     ]
    },
    {
     "ename": "",
     "evalue": "1",
     "output_type": "error",
     "traceback": []
    }
   ],
   "source": [
    "python sys_exit_stderr.py"
   ]
  },
  {
   "cell_type": "code",
   "execution_count": 4,
   "id": "9ec84472",
   "metadata": {},
   "outputs": [
    {
     "ename": "",
     "evalue": "1",
     "output_type": "error",
     "traceback": []
    }
   ],
   "source": [
    "python sys_exit_stderr.py 1> data/temp/stdout.txt 2> data/temp/stderr.txt"
   ]
  },
  {
   "cell_type": "code",
   "execution_count": 5,
   "id": "66a481ee",
   "metadata": {},
   "outputs": [],
   "source": [
    "cat data/temp/stdout.txt"
   ]
  },
  {
   "cell_type": "code",
   "execution_count": 6,
   "id": "9d21fa98",
   "metadata": {},
   "outputs": [
    {
     "name": "stdout",
     "output_type": "stream",
     "text": [
      "Error message\n"
     ]
    }
   ],
   "source": [
    "cat data/temp/stderr.txt"
   ]
  },
  {
   "cell_type": "code",
   "execution_count": 7,
   "id": "e7fc937f",
   "metadata": {},
   "outputs": [
    {
     "name": "stdout",
     "output_type": "stream",
     "text": [
      "Start\n",
      "Catch all exceptions\n",
      "Finish\n"
     ]
    }
   ],
   "source": [
    "python sys_exit_systemexit.py"
   ]
  }
 ],
 "metadata": {
  "kernelspec": {
   "display_name": "Bash",
   "language": "bash",
   "name": "bash"
  },
  "language_info": {
   "codemirror_mode": "shell",
   "file_extension": ".sh",
   "mimetype": "text/x-sh",
   "name": "bash"
  }
 },
 "nbformat": 4,
 "nbformat_minor": 5
}
