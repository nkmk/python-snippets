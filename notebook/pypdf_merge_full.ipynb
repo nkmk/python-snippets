{
 "cells": [
  {
   "cell_type": "code",
   "execution_count": 1,
   "id": "e5434a66",
   "metadata": {},
   "outputs": [],
   "source": [
    "import pypdf"
   ]
  },
  {
   "cell_type": "code",
   "execution_count": 2,
   "id": "e45752d0",
   "metadata": {},
   "outputs": [
    {
     "name": "stdout",
     "output_type": "stream",
     "text": [
      "5.5.0\n"
     ]
    }
   ],
   "source": [
    "print(pypdf.__version__)"
   ]
  },
  {
   "cell_type": "code",
   "execution_count": 3,
   "id": "29239b3f",
   "metadata": {},
   "outputs": [],
   "source": [
    "writer = pypdf.PdfWriter()"
   ]
  },
  {
   "cell_type": "code",
   "execution_count": 4,
   "id": "f146ca93",
   "metadata": {},
   "outputs": [],
   "source": [
    "writer.append('data/src/pdf/sample1.pdf')\n",
    "writer.append('data/src/pdf/sample2.pdf')\n",
    "writer.append('data/src/pdf/sample3.pdf')"
   ]
  },
  {
   "cell_type": "code",
   "execution_count": 5,
   "id": "d30bd291",
   "metadata": {},
   "outputs": [
    {
     "data": {
      "text/plain": [
       "(True, <_io.FileIO [closed]>)"
      ]
     },
     "execution_count": 5,
     "metadata": {},
     "output_type": "execute_result"
    }
   ],
   "source": [
    "writer.write('data/temp/sample_merge.pdf')"
   ]
  },
  {
   "cell_type": "code",
   "execution_count": 6,
   "id": "103938c2",
   "metadata": {},
   "outputs": [],
   "source": [
    "writer = pypdf.PdfWriter()"
   ]
  },
  {
   "cell_type": "code",
   "execution_count": 7,
   "id": "f94a720d",
   "metadata": {},
   "outputs": [],
   "source": [
    "writer.append('data/src/pdf/sample1.pdf')\n",
    "writer.merge(2, 'data/src/pdf/sample2.pdf')\n",
    "writer.merge(4, 'data/src/pdf/sample3.pdf')"
   ]
  },
  {
   "cell_type": "code",
   "execution_count": 8,
   "id": "a7740584",
   "metadata": {},
   "outputs": [
    {
     "data": {
      "text/plain": [
       "(True, <_io.FileIO [closed]>)"
      ]
     },
     "execution_count": 8,
     "metadata": {},
     "output_type": "execute_result"
    }
   ],
   "source": [
    "writer.write('data/temp/sample_insert.pdf')"
   ]
  },
  {
   "cell_type": "code",
   "execution_count": 9,
   "id": "d8b37dee",
   "metadata": {},
   "outputs": [],
   "source": [
    "writer = pypdf.PdfWriter()"
   ]
  },
  {
   "cell_type": "code",
   "execution_count": 10,
   "id": "ecc00ee2",
   "metadata": {},
   "outputs": [],
   "source": [
    "writer.append('data/src/pdf/sample1.pdf')\n",
    "writer.append('data/src/pdf/sample2.pdf')"
   ]
  },
  {
   "cell_type": "code",
   "execution_count": 11,
   "id": "828b689a",
   "metadata": {},
   "outputs": [],
   "source": [
    "writer.add_metadata(pypdf.PdfReader('data/src/pdf/sample1.pdf').metadata)\n",
    "writer.add_metadata({'/Title': 'merged file'})"
   ]
  },
  {
   "cell_type": "code",
   "execution_count": 12,
   "id": "5b88fac8",
   "metadata": {},
   "outputs": [
    {
     "data": {
      "text/plain": [
       "(True, <_io.FileIO [closed]>)"
      ]
     },
     "execution_count": 12,
     "metadata": {},
     "output_type": "execute_result"
    }
   ],
   "source": [
    "writer.write('data/temp/sample_merge_meta.pdf')"
   ]
  }
 ],
 "metadata": {
  "kernelspec": {
   "display_name": "Python 3",
   "language": "python",
   "name": "python3"
  },
  "language_info": {
   "codemirror_mode": {
    "name": "ipython",
    "version": 3
   },
   "file_extension": ".py",
   "mimetype": "text/x-python",
   "name": "python",
   "nbconvert_exporter": "python",
   "pygments_lexer": "ipython3",
   "version": "3.13.3"
  }
 },
 "nbformat": 4,
 "nbformat_minor": 5
}
