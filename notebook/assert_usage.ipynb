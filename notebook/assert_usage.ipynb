{
 "cells": [
  {
   "cell_type": "code",
   "execution_count": 1,
   "id": "ec9ea573",
   "metadata": {},
   "outputs": [],
   "source": [
    "a = 100"
   ]
  },
  {
   "cell_type": "code",
   "execution_count": 2,
   "id": "0e1de915",
   "metadata": {},
   "outputs": [],
   "source": [
    "assert a == 100"
   ]
  },
  {
   "cell_type": "code",
   "execution_count": 3,
   "id": "0d3ef02b",
   "metadata": {},
   "outputs": [],
   "source": [
    "# assert a == 0\n",
    "# AssertionError: "
   ]
  },
  {
   "cell_type": "code",
   "execution_count": 4,
   "id": "0c7c77e5",
   "metadata": {},
   "outputs": [],
   "source": [
    "assert [0, 1, 2]"
   ]
  },
  {
   "cell_type": "code",
   "execution_count": 5,
   "id": "6815ac99",
   "metadata": {},
   "outputs": [],
   "source": [
    "# assert []\n",
    "# AssertionError: "
   ]
  },
  {
   "cell_type": "code",
   "execution_count": 6,
   "id": "af3e0683",
   "metadata": {},
   "outputs": [],
   "source": [
    "a = 100"
   ]
  },
  {
   "cell_type": "code",
   "execution_count": 7,
   "id": "8fa1e2e0",
   "metadata": {},
   "outputs": [],
   "source": [
    "assert a > 0 and a % 2 == 0"
   ]
  },
  {
   "cell_type": "code",
   "execution_count": 8,
   "id": "b8336097",
   "metadata": {},
   "outputs": [],
   "source": [
    "# assert a < 0 and a % 2 == 0\n",
    "# AssertionError: "
   ]
  },
  {
   "cell_type": "code",
   "execution_count": 9,
   "id": "9502b291",
   "metadata": {},
   "outputs": [],
   "source": [
    "a = 100"
   ]
  },
  {
   "cell_type": "code",
   "execution_count": 10,
   "id": "0d2f4505",
   "metadata": {},
   "outputs": [],
   "source": [
    "# assert a == 0, 'a must be 0.'\n",
    "# AssertionError: a must be 0."
   ]
  },
  {
   "cell_type": "code",
   "execution_count": 11,
   "id": "d3d41cc9",
   "metadata": {},
   "outputs": [],
   "source": [
    "def test1(x):\n",
    "    print('test1 is called.')\n",
    "    return x > 0"
   ]
  },
  {
   "cell_type": "code",
   "execution_count": 12,
   "id": "2208f1a9",
   "metadata": {},
   "outputs": [],
   "source": [
    "def test2(x):\n",
    "    print('test2 is called.')\n",
    "    return x % 2 == 0"
   ]
  },
  {
   "cell_type": "code",
   "execution_count": 13,
   "id": "dfc9dbf0",
   "metadata": {},
   "outputs": [],
   "source": [
    "a = -100"
   ]
  },
  {
   "cell_type": "code",
   "execution_count": 14,
   "id": "8a883974",
   "metadata": {},
   "outputs": [],
   "source": [
    "# assert test1(a) and test2(a), 'Error Message'\n",
    "# test1 is called.\n",
    "# AssertionError: Error Message"
   ]
  },
  {
   "cell_type": "code",
   "execution_count": 15,
   "id": "fe6babe5",
   "metadata": {},
   "outputs": [],
   "source": [
    "# assert test1(a), 'Error Message1'\n",
    "# assert test2(a), 'Error Message2'\n",
    "# test1 is called.\n",
    "# AssertionError: Error Message1"
   ]
  },
  {
   "cell_type": "code",
   "execution_count": 16,
   "id": "f4239b3b",
   "metadata": {},
   "outputs": [],
   "source": [
    "# assert (test1(a), test2(a)) == (True, True), 'Error Message'\n",
    "# test1 is called.\n",
    "# test2 is called.\n",
    "# AssertionError: Error Message"
   ]
  }
 ],
 "metadata": {
  "kernelspec": {
   "display_name": "Python 3",
   "language": "python",
   "name": "python3"
  },
  "language_info": {
   "codemirror_mode": {
    "name": "ipython",
    "version": 3
   },
   "file_extension": ".py",
   "mimetype": "text/x-python",
   "name": "python",
   "nbconvert_exporter": "python",
   "pygments_lexer": "ipython3",
   "version": "3.13.3"
  }
 },
 "nbformat": 4,
 "nbformat_minor": 5
}
