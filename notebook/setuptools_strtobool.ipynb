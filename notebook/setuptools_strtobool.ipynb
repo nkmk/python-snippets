{
 "cells": [
  {
   "cell_type": "code",
   "execution_count": 1,
   "id": "ec8133a3",
   "metadata": {},
   "outputs": [],
   "source": [
    "from setuptools._distutils.util import strtobool"
   ]
  },
  {
   "cell_type": "code",
   "execution_count": 2,
   "id": "91eb3c1b",
   "metadata": {},
   "outputs": [
    {
     "name": "stdout",
     "output_type": "stream",
     "text": [
      "True\n",
      "True\n",
      "True\n"
     ]
    }
   ],
   "source": [
    "print(strtobool('true'))\n",
    "print(strtobool('True'))\n",
    "print(strtobool('TRUE'))"
   ]
  },
  {
   "cell_type": "code",
   "execution_count": 3,
   "id": "d59e6711",
   "metadata": {},
   "outputs": [
    {
     "name": "stdout",
     "output_type": "stream",
     "text": [
      "True\n",
      "True\n",
      "True\n",
      "True\n",
      "True\n"
     ]
    }
   ],
   "source": [
    "print(strtobool('t'))\n",
    "print(strtobool('yes'))\n",
    "print(strtobool('y'))\n",
    "print(strtobool('on'))\n",
    "print(strtobool('1'))"
   ]
  },
  {
   "cell_type": "code",
   "execution_count": 4,
   "id": "6fa19f6b",
   "metadata": {},
   "outputs": [
    {
     "name": "stdout",
     "output_type": "stream",
     "text": [
      "False\n",
      "False\n",
      "False\n"
     ]
    }
   ],
   "source": [
    "print(strtobool('false'))\n",
    "print(strtobool('False'))\n",
    "print(strtobool('FALSE'))"
   ]
  },
  {
   "cell_type": "code",
   "execution_count": 5,
   "id": "35e6c2f7",
   "metadata": {},
   "outputs": [
    {
     "name": "stdout",
     "output_type": "stream",
     "text": [
      "False\n",
      "False\n",
      "False\n",
      "False\n",
      "False\n"
     ]
    }
   ],
   "source": [
    "print(strtobool('f'))\n",
    "print(strtobool('no'))\n",
    "print(strtobool('n'))\n",
    "print(strtobool('off'))\n",
    "print(strtobool('0'))"
   ]
  },
  {
   "cell_type": "code",
   "execution_count": 6,
   "id": "53f16153",
   "metadata": {},
   "outputs": [],
   "source": [
    "# print(strtobool('abc'))\n",
    "# ValueError: invalid truth value 'abc'"
   ]
  },
  {
   "cell_type": "code",
   "execution_count": 7,
   "id": "93b7f7d7",
   "metadata": {},
   "outputs": [
    {
     "name": "stdout",
     "output_type": "stream",
     "text": [
      "invalid truth value 'abc'\n"
     ]
    }
   ],
   "source": [
    "try:\n",
    "    strtobool('abc')\n",
    "except ValueError as e:\n",
    "    print(e)"
   ]
  }
 ],
 "metadata": {
  "kernelspec": {
   "display_name": "Python 3",
   "language": "python",
   "name": "python3"
  },
  "language_info": {
   "codemirror_mode": {
    "name": "ipython",
    "version": 3
   },
   "file_extension": ".py",
   "mimetype": "text/x-python",
   "name": "python",
   "nbconvert_exporter": "python",
   "pygments_lexer": "ipython3",
   "version": "3.13.3"
  }
 },
 "nbformat": 4,
 "nbformat_minor": 5
}
