{
 "cells": [
  {
   "cell_type": "code",
   "execution_count": 1,
   "id": "4977b1c4",
   "metadata": {},
   "outputs": [],
   "source": [
    "import pypdf"
   ]
  },
  {
   "cell_type": "code",
   "execution_count": 2,
   "id": "d0e6595f",
   "metadata": {},
   "outputs": [
    {
     "name": "stdout",
     "output_type": "stream",
     "text": [
      "5.5.0\n"
     ]
    }
   ],
   "source": [
    "print(pypdf.__version__)"
   ]
  },
  {
   "cell_type": "code",
   "execution_count": 3,
   "id": "7274bad2",
   "metadata": {},
   "outputs": [],
   "source": [
    "src_pdf = pypdf.PdfReader('data/src/pdf/sample1.pdf')\n",
    "dst_pdf = pypdf.PdfWriter(clone_from=src_pdf)"
   ]
  },
  {
   "cell_type": "code",
   "execution_count": 4,
   "id": "017b3422",
   "metadata": {},
   "outputs": [],
   "source": [
    "dst_pdf.metadata = None"
   ]
  },
  {
   "cell_type": "code",
   "execution_count": 5,
   "id": "cb9aab8f",
   "metadata": {},
   "outputs": [
    {
     "data": {
      "text/plain": [
       "(True, <_io.FileIO [closed]>)"
      ]
     },
     "execution_count": 5,
     "metadata": {},
     "output_type": "execute_result"
    }
   ],
   "source": [
    "dst_pdf.write('data/temp/sample1_no_meta.pdf')"
   ]
  },
  {
   "cell_type": "code",
   "execution_count": 6,
   "id": "467d5ee7",
   "metadata": {},
   "outputs": [],
   "source": [
    "src_pdf = pypdf.PdfReader('data/src/pdf/sample1.pdf')\n",
    "dst_pdf = pypdf.PdfWriter(clone_from=src_pdf)"
   ]
  },
  {
   "cell_type": "code",
   "execution_count": 7,
   "id": "b6d129b0",
   "metadata": {},
   "outputs": [],
   "source": [
    "metadata = dict(src_pdf.metadata)"
   ]
  },
  {
   "cell_type": "code",
   "execution_count": 8,
   "id": "3ca2b418",
   "metadata": {},
   "outputs": [
    {
     "name": "stdout",
     "output_type": "stream",
     "text": [
      "dict_keys(['/Title', '/Producer', '/Creator', '/CreationDate', '/ModDate'])\n"
     ]
    }
   ],
   "source": [
    "print(metadata.keys())"
   ]
  },
  {
   "cell_type": "code",
   "execution_count": 9,
   "id": "148570e2",
   "metadata": {},
   "outputs": [],
   "source": [
    "metadata.pop('/Creator')\n",
    "del metadata['/Producer']"
   ]
  },
  {
   "cell_type": "code",
   "execution_count": 10,
   "id": "ebea7dfa",
   "metadata": {},
   "outputs": [
    {
     "name": "stdout",
     "output_type": "stream",
     "text": [
      "dict_keys(['/Title', '/CreationDate', '/ModDate'])\n"
     ]
    }
   ],
   "source": [
    "print(metadata.keys())"
   ]
  },
  {
   "cell_type": "code",
   "execution_count": 11,
   "id": "751c61ab",
   "metadata": {},
   "outputs": [
    {
     "data": {
      "text/plain": [
       "(True, <_io.FileIO [closed]>)"
      ]
     },
     "execution_count": 11,
     "metadata": {},
     "output_type": "execute_result"
    }
   ],
   "source": [
    "dst_pdf.metadata = metadata\n",
    "dst_pdf.write('data/temp/sample1_remove_meta.pdf')"
   ]
  }
 ],
 "metadata": {
  "kernelspec": {
   "display_name": "Python 3",
   "language": "python",
   "name": "python3"
  },
  "language_info": {
   "codemirror_mode": {
    "name": "ipython",
    "version": 3
   },
   "file_extension": ".py",
   "mimetype": "text/x-python",
   "name": "python",
   "nbconvert_exporter": "python",
   "pygments_lexer": "ipython3",
   "version": "3.13.3"
  }
 },
 "nbformat": 4,
 "nbformat_minor": 5
}
