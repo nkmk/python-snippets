{
 "cells": [
  {
   "cell_type": "code",
   "execution_count": 1,
   "id": "a04a1fbc",
   "metadata": {},
   "outputs": [],
   "source": [
    "import pypdf"
   ]
  },
  {
   "cell_type": "code",
   "execution_count": 2,
   "id": "551630ce",
   "metadata": {},
   "outputs": [
    {
     "name": "stdout",
     "output_type": "stream",
     "text": [
      "5.5.0\n"
     ]
    }
   ],
   "source": [
    "print(pypdf.__version__)"
   ]
  },
  {
   "cell_type": "code",
   "execution_count": 3,
   "id": "56a64d39",
   "metadata": {},
   "outputs": [
    {
     "name": "stdout",
     "output_type": "stream",
     "text": [
      "False\n"
     ]
    }
   ],
   "source": [
    "pdf = pypdf.PdfReader('data/src/pdf/sample1.pdf')\n",
    "print(pdf.is_encrypted)"
   ]
  },
  {
   "cell_type": "code",
   "execution_count": 4,
   "id": "7934abb3",
   "metadata": {},
   "outputs": [],
   "source": [
    "src_pdf = pypdf.PdfReader('data/src/pdf/sample1.pdf')\n",
    "dst_pdf = pypdf.PdfWriter(clone_from=src_pdf)"
   ]
  },
  {
   "cell_type": "code",
   "execution_count": 5,
   "id": "adb92c58",
   "metadata": {},
   "outputs": [
    {
     "data": {
      "text/plain": [
       "(True, <_io.FileIO [closed]>)"
      ]
     },
     "execution_count": 5,
     "metadata": {},
     "output_type": "execute_result"
    }
   ],
   "source": [
    "dst_pdf.encrypt('pass_user', 'pass_owner', algorithm='AES-256-R5')\n",
    "dst_pdf.write('data/temp/sample1_pass.pdf')"
   ]
  },
  {
   "cell_type": "code",
   "execution_count": 6,
   "id": "a30ab75a",
   "metadata": {},
   "outputs": [
    {
     "name": "stdout",
     "output_type": "stream",
     "text": [
      "True\n"
     ]
    }
   ],
   "source": [
    "pdf_pass = pypdf.PdfReader('data/temp/sample1_pass.pdf')\n",
    "print(pdf_pass.is_encrypted)"
   ]
  },
  {
   "cell_type": "code",
   "execution_count": 7,
   "id": "96a91f5a",
   "metadata": {},
   "outputs": [],
   "source": [
    "# dst_pdf = pypdf.PdfWriter(clone_from=pdf_pass)\n",
    "# FileNotDecryptedError: File has not been decrypted"
   ]
  },
  {
   "cell_type": "code",
   "execution_count": 8,
   "id": "ad1ad676",
   "metadata": {},
   "outputs": [
    {
     "name": "stdout",
     "output_type": "stream",
     "text": [
      "0\n"
     ]
    }
   ],
   "source": [
    "print(pdf_pass.decrypt('wrong-password'))"
   ]
  },
  {
   "cell_type": "code",
   "execution_count": 9,
   "id": "fec01b70",
   "metadata": {},
   "outputs": [
    {
     "name": "stdout",
     "output_type": "stream",
     "text": [
      "1\n"
     ]
    }
   ],
   "source": [
    "print(pdf_pass.decrypt('pass_user'))"
   ]
  },
  {
   "cell_type": "code",
   "execution_count": 10,
   "id": "7877fc72",
   "metadata": {},
   "outputs": [
    {
     "name": "stdout",
     "output_type": "stream",
     "text": [
      "2\n"
     ]
    }
   ],
   "source": [
    "print(pdf_pass.decrypt('pass_owner'))"
   ]
  },
  {
   "cell_type": "code",
   "execution_count": 11,
   "id": "d8405aff",
   "metadata": {},
   "outputs": [
    {
     "data": {
      "text/plain": [
       "(True, <_io.FileIO [closed]>)"
      ]
     },
     "execution_count": 11,
     "metadata": {},
     "output_type": "execute_result"
    }
   ],
   "source": [
    "dst_pdf = pypdf.PdfWriter(clone_from=pdf_pass)\n",
    "dst_pdf.write('data/temp/sample1_no_pass.pdf')"
   ]
  },
  {
   "cell_type": "code",
   "execution_count": 12,
   "id": "a5dcb5d8",
   "metadata": {},
   "outputs": [
    {
     "data": {
      "text/plain": [
       "(True, <_io.FileIO [closed]>)"
      ]
     },
     "execution_count": 12,
     "metadata": {},
     "output_type": "execute_result"
    }
   ],
   "source": [
    "dst_pdf = pypdf.PdfWriter(clone_from=pdf_pass)\n",
    "dst_pdf.encrypt('new_pass_user', 'new_pass_owner', algorithm='AES-256-R5')\n",
    "dst_pdf.write('data/temp/sample1_new_pass.pdf')"
   ]
  }
 ],
 "metadata": {
  "kernelspec": {
   "display_name": "Python 3",
   "language": "python",
   "name": "python3"
  },
  "language_info": {
   "codemirror_mode": {
    "name": "ipython",
    "version": 3
   },
   "file_extension": ".py",
   "mimetype": "text/x-python",
   "name": "python",
   "nbconvert_exporter": "python",
   "pygments_lexer": "ipython3",
   "version": "3.13.3"
  }
 },
 "nbformat": 4,
 "nbformat_minor": 5
}
