{
 "cells": [
  {
   "cell_type": "code",
   "execution_count": 1,
   "id": "c90c32b4",
   "metadata": {},
   "outputs": [],
   "source": [
    "import pypdf"
   ]
  },
  {
   "cell_type": "code",
   "execution_count": 2,
   "id": "35b07c94",
   "metadata": {},
   "outputs": [
    {
     "name": "stdout",
     "output_type": "stream",
     "text": [
      "5.5.0\n"
     ]
    }
   ],
   "source": [
    "print(pypdf.__version__)"
   ]
  },
  {
   "cell_type": "code",
   "execution_count": 3,
   "id": "b96caa63",
   "metadata": {},
   "outputs": [],
   "source": [
    "writer = pypdf.PdfWriter()"
   ]
  },
  {
   "cell_type": "code",
   "execution_count": 4,
   "id": "57cc2873",
   "metadata": {},
   "outputs": [],
   "source": [
    "writer.append('data/src/pdf/sample1.pdf', pages=(0, 1))\n",
    "writer.append('data/src/pdf/sample2.pdf', pages=(2, 4))\n",
    "writer.merge(2, 'data/src/pdf/sample3.pdf', pages=(0, 3, 2))"
   ]
  },
  {
   "cell_type": "code",
   "execution_count": 5,
   "id": "bcd804be",
   "metadata": {},
   "outputs": [
    {
     "data": {
      "text/plain": [
       "(True, <_io.FileIO [closed]>)"
      ]
     },
     "execution_count": 5,
     "metadata": {},
     "output_type": "execute_result"
    }
   ],
   "source": [
    "writer.write('data/temp/sample_merge_page.pdf')"
   ]
  },
  {
   "cell_type": "code",
   "execution_count": 6,
   "id": "002b27f6",
   "metadata": {},
   "outputs": [],
   "source": [
    "writer = pypdf.PdfWriter()"
   ]
  },
  {
   "cell_type": "code",
   "execution_count": 7,
   "id": "b80f54de",
   "metadata": {},
   "outputs": [],
   "source": [
    "writer.append('data/src/pdf/sample1.pdf', pages=pypdf.PageRange('-1'))\n",
    "writer.append('data/src/pdf/sample2.pdf', pages=pypdf.PageRange('2:'))\n",
    "writer.merge(2, 'data/src/pdf/sample3.pdf', pages=pypdf.PageRange('::-1'))"
   ]
  },
  {
   "cell_type": "code",
   "execution_count": 8,
   "id": "e30ee087",
   "metadata": {},
   "outputs": [
    {
     "data": {
      "text/plain": [
       "(True, <_io.FileIO [closed]>)"
      ]
     },
     "execution_count": 8,
     "metadata": {},
     "output_type": "execute_result"
    }
   ],
   "source": [
    "writer.write('data/temp/sample_merge_pagerange.pdf')"
   ]
  },
  {
   "cell_type": "code",
   "execution_count": 9,
   "id": "7865e302",
   "metadata": {},
   "outputs": [],
   "source": [
    "reader1 = pypdf.PdfReader('data/src/pdf/sample1.pdf')\n",
    "reader2 = pypdf.PdfReader('data/src/pdf/sample2.pdf')"
   ]
  },
  {
   "cell_type": "code",
   "execution_count": 10,
   "id": "17c9cc84",
   "metadata": {},
   "outputs": [],
   "source": [
    "writer = pypdf.PdfWriter()"
   ]
  },
  {
   "cell_type": "code",
   "execution_count": 11,
   "id": "4da5db93",
   "metadata": {},
   "outputs": [
    {
     "data": {
      "text/plain": [
       "(True, <_io.FileIO [closed]>)"
      ]
     },
     "execution_count": 11,
     "metadata": {},
     "output_type": "execute_result"
    }
   ],
   "source": [
    "writer.add_page(reader1.pages[0])\n",
    "writer.add_page(reader2.pages[2])\n",
    "\n",
    "writer.write('data/temp/sample_merge_wr.pdf')"
   ]
  }
 ],
 "metadata": {
  "kernelspec": {
   "display_name": "Python 3",
   "language": "python",
   "name": "python3"
  },
  "language_info": {
   "codemirror_mode": {
    "name": "ipython",
    "version": 3
   },
   "file_extension": ".py",
   "mimetype": "text/x-python",
   "name": "python",
   "nbconvert_exporter": "python",
   "pygments_lexer": "ipython3",
   "version": "3.13.3"
  }
 },
 "nbformat": 4,
 "nbformat_minor": 5
}
