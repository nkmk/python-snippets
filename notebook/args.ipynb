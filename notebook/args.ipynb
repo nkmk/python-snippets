{
 "cells": [
  {
   "cell_type": "code",
   "execution_count": 1,
   "metadata": {},
   "outputs": [],
   "source": [
    "def my_sum(*args):\n",
    "    return sum(args)"
   ]
  },
  {
   "cell_type": "code",
   "execution_count": 2,
   "metadata": {},
   "outputs": [
    {
     "name": "stdout",
     "output_type": "stream",
     "text": [
      "10\n"
     ]
    }
   ],
   "source": [
    "print(my_sum(1, 2, 3, 4))"
   ]
  },
  {
   "cell_type": "code",
   "execution_count": 3,
   "metadata": {},
   "outputs": [
    {
     "name": "stdout",
     "output_type": "stream",
     "text": [
      "36\n"
     ]
    }
   ],
   "source": [
    "print(my_sum(1, 2, 3, 4, 5, 6, 7, 8))"
   ]
  },
  {
   "cell_type": "code",
   "execution_count": 4,
   "metadata": {},
   "outputs": [],
   "source": [
    "def my_sum2(*args):\n",
    "    print('args: ', args)\n",
    "    print('type: ', type(args))\n",
    "    print('sum : ', sum(args))"
   ]
  },
  {
   "cell_type": "code",
   "execution_count": 5,
   "metadata": {},
   "outputs": [
    {
     "name": "stdout",
     "output_type": "stream",
     "text": [
      "args:  (1, 2, 3, 4)\n",
      "type:  <class 'tuple'>\n",
      "sum :  10\n"
     ]
    }
   ],
   "source": [
    "my_sum2(1, 2, 3, 4)"
   ]
  },
  {
   "cell_type": "code",
   "execution_count": 6,
   "metadata": {},
   "outputs": [],
   "source": [
    "def func_args(arg1, arg2, *args):\n",
    "    print('arg1: ', arg1)\n",
    "    print('arg2: ', arg2)\n",
    "    print('args: ', args)"
   ]
  },
  {
   "cell_type": "code",
   "execution_count": 7,
   "metadata": {},
   "outputs": [
    {
     "name": "stdout",
     "output_type": "stream",
     "text": [
      "arg1:  0\n",
      "arg2:  1\n",
      "args:  (2, 3, 4)\n"
     ]
    }
   ],
   "source": [
    "func_args(0, 1, 2, 3, 4)"
   ]
  },
  {
   "cell_type": "code",
   "execution_count": 8,
   "metadata": {},
   "outputs": [
    {
     "name": "stdout",
     "output_type": "stream",
     "text": [
      "arg1:  0\n",
      "arg2:  1\n",
      "args:  ()\n"
     ]
    }
   ],
   "source": [
    "func_args(0, 1)"
   ]
  },
  {
   "cell_type": "code",
   "execution_count": 9,
   "metadata": {},
   "outputs": [],
   "source": [
    "def func_args2(arg1, *args, arg2):\n",
    "    print('arg1: ', arg1)\n",
    "    print('arg2: ', arg2)\n",
    "    print('args: ', args)"
   ]
  },
  {
   "cell_type": "code",
   "execution_count": 10,
   "metadata": {},
   "outputs": [],
   "source": [
    "# func_args2(0, 1, 2, 3, 4)\n",
    "# TypeError: func_args2() missing 1 required keyword-only argument: 'arg2'"
   ]
  },
  {
   "cell_type": "code",
   "execution_count": 11,
   "metadata": {},
   "outputs": [
    {
     "name": "stdout",
     "output_type": "stream",
     "text": [
      "arg1:  0\n",
      "arg2:  4\n",
      "args:  (1, 2, 3)\n"
     ]
    }
   ],
   "source": [
    "func_args2(0, 1, 2, 3, arg2=4)"
   ]
  },
  {
   "cell_type": "code",
   "execution_count": 12,
   "metadata": {},
   "outputs": [],
   "source": [
    "def func_args_kw_only(arg1, *, arg2):\n",
    "    print('arg1: ', arg1)\n",
    "    print('arg2: ', arg2)"
   ]
  },
  {
   "cell_type": "code",
   "execution_count": 13,
   "metadata": {},
   "outputs": [],
   "source": [
    "# func_args_kw_only(100, 200)\n",
    "# TypeError: func_args_kw_only() takes 1 positional argument but 2 were given"
   ]
  },
  {
   "cell_type": "code",
   "execution_count": 14,
   "metadata": {},
   "outputs": [
    {
     "name": "stdout",
     "output_type": "stream",
     "text": [
      "arg1:  100\n",
      "arg2:  200\n"
     ]
    }
   ],
   "source": [
    "func_args_kw_only(100, arg2=200)"
   ]
  }
 ],
 "metadata": {
  "kernelspec": {
   "display_name": "Python 3",
   "language": "python",
   "name": "python3"
  },
  "language_info": {
   "codemirror_mode": {
    "name": "ipython",
    "version": 3
   },
   "file_extension": ".py",
   "mimetype": "text/x-python",
   "name": "python",
   "nbconvert_exporter": "python",
   "pygments_lexer": "ipython3",
   "version": "3.13.3"
  }
 },
 "nbformat": 4,
 "nbformat_minor": 2
}
