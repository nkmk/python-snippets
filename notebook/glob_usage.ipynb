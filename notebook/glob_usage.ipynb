{
 "cells": [
  {
   "cell_type": "code",
   "execution_count": 1,
   "metadata": {},
   "outputs": [],
   "source": [
    "import os\n",
    "from pathlib import Path"
   ]
  },
  {
   "cell_type": "code",
   "execution_count": 2,
   "metadata": {},
   "outputs": [],
   "source": [
    "os.chdir('data/temp')"
   ]
  },
  {
   "cell_type": "code",
   "execution_count": 3,
   "metadata": {},
   "outputs": [],
   "source": [
    "p = Path('temp')\n",
    "p.joinpath('dir/sub_dir1').mkdir(parents=True, exist_ok=True)\n",
    "p.joinpath('dir/sub_dir2').mkdir(parents=True, exist_ok=True)\n",
    "p.joinpath('aaa.jpg').touch()\n",
    "p.joinpath('1.txt').touch()\n",
    "p.joinpath('12.jpg').touch()\n",
    "p.joinpath('123.txt').touch()\n",
    "p.joinpath('[x].txt').touch()\n",
    "p.joinpath('dir/bbb.txt').touch()\n",
    "p.joinpath('dir/987.jpg').touch()\n",
    "p.joinpath('dir/sub_dir1/98.txt').touch()\n",
    "p.joinpath('dir/sub_dir1/ccc.jpg').touch()\n",
    "p.joinpath('dir/sub_dir2/ddd.jpg').touch()"
   ]
  },
  {
   "cell_type": "code",
   "execution_count": 4,
   "metadata": {},
   "outputs": [
    {
     "name": "stdout",
     "output_type": "stream",
     "text": [
      "temp/\r\n",
      "├── 1.txt\r\n",
      "├── 12.jpg\r\n",
      "├── 123.txt\r\n",
      "├── [x].txt\r\n",
      "├── aaa.jpg\r\n",
      "└── dir/\r\n",
      "    ├── 987.jpg\r\n",
      "    ├── bbb.txt\r\n",
      "    ├── sub_dir1/\r\n",
      "    │   ├── 98.txt\r\n",
      "    │   └── ccc.jpg\r\n",
      "    └── sub_dir2/\r\n",
      "        └── ddd.jpg\r\n",
      "\r\n",
      "4 directories, 10 files\r\n"
     ]
    }
   ],
   "source": [
    "!tree temp -nF  # Only works in Jupyter Notebook"
   ]
  },
  {
   "cell_type": "code",
   "execution_count": 5,
   "metadata": {},
   "outputs": [],
   "source": [
    "import glob\n",
    "import os"
   ]
  },
  {
   "cell_type": "code",
   "execution_count": 6,
   "metadata": {},
   "outputs": [
    {
     "name": "stdout",
     "output_type": "stream",
     "text": [
      "['temp/[x].txt', 'temp/1.txt', 'temp/123.txt']\n"
     ]
    }
   ],
   "source": [
    "l = glob.glob('temp/*.txt')\n",
    "print(l)"
   ]
  },
  {
   "cell_type": "code",
   "execution_count": 7,
   "metadata": {},
   "outputs": [
    {
     "name": "stdout",
     "output_type": "stream",
     "text": [
      "<class 'list'>\n"
     ]
    }
   ],
   "source": [
    "print(type(l))"
   ]
  },
  {
   "cell_type": "code",
   "execution_count": 8,
   "metadata": {},
   "outputs": [
    {
     "name": "stdout",
     "output_type": "stream",
     "text": [
      "['temp/[x].txt', 'temp/12.jpg', 'temp/aaa.jpg', 'temp/dir', 'temp/1.txt', 'temp/123.txt']\n"
     ]
    }
   ],
   "source": [
    "print(glob.glob('temp/*'))"
   ]
  },
  {
   "cell_type": "code",
   "execution_count": 9,
   "metadata": {},
   "outputs": [
    {
     "name": "stdout",
     "output_type": "stream",
     "text": [
      "['temp/12.jpg', 'temp/aaa.jpg']\n"
     ]
    }
   ],
   "source": [
    "print(glob.glob('temp/*.jpg'))"
   ]
  },
  {
   "cell_type": "code",
   "execution_count": 10,
   "metadata": {},
   "outputs": [
    {
     "name": "stdout",
     "output_type": "stream",
     "text": [
      "['temp/dir/sub_dir1/ccc.jpg', 'temp/dir/sub_dir2/ddd.jpg']\n"
     ]
    }
   ],
   "source": [
    "print(glob.glob('temp/dir/*/*.jpg'))"
   ]
  },
  {
   "cell_type": "code",
   "execution_count": 11,
   "metadata": {},
   "outputs": [
    {
     "name": "stdout",
     "output_type": "stream",
     "text": [
      "['temp/[x].txt', 'temp/aaa.jpg', 'temp/123.txt']\n"
     ]
    }
   ],
   "source": [
    "print(glob.glob('temp/???.*'))"
   ]
  },
  {
   "cell_type": "code",
   "execution_count": 12,
   "metadata": {},
   "outputs": [
    {
     "name": "stdout",
     "output_type": "stream",
     "text": [
      "['temp/1.txt']\n"
     ]
    }
   ],
   "source": [
    "print(glob.glob('temp/[0-9].*'))"
   ]
  },
  {
   "cell_type": "code",
   "execution_count": 13,
   "metadata": {},
   "outputs": [
    {
     "name": "stdout",
     "output_type": "stream",
     "text": [
      "['temp/12.jpg']\n"
     ]
    }
   ],
   "source": [
    "print(glob.glob('temp/[0-9][0-9].*'))"
   ]
  },
  {
   "cell_type": "code",
   "execution_count": 14,
   "metadata": {},
   "outputs": [
    {
     "name": "stdout",
     "output_type": "stream",
     "text": [
      "['temp/aaa.jpg']\n"
     ]
    }
   ],
   "source": [
    "print(glob.glob('temp/[a-z][a-z][a-z].*'))"
   ]
  },
  {
   "cell_type": "code",
   "execution_count": 15,
   "metadata": {},
   "outputs": [
    {
     "name": "stdout",
     "output_type": "stream",
     "text": [
      "['temp/1.txt']\n"
     ]
    }
   ],
   "source": [
    "print(glob.glob('temp/[!a-z].*'))"
   ]
  },
  {
   "cell_type": "code",
   "execution_count": 16,
   "metadata": {},
   "outputs": [
    {
     "name": "stdout",
     "output_type": "stream",
     "text": [
      "['temp/[x].txt']\n"
     ]
    }
   ],
   "source": [
    "print(glob.glob('temp/[[]*'))"
   ]
  },
  {
   "cell_type": "code",
   "execution_count": 17,
   "metadata": {},
   "outputs": [
    {
     "name": "stdout",
     "output_type": "stream",
     "text": [
      "[*]_[?]_[[]\n"
     ]
    }
   ],
   "source": [
    "print(glob.escape('*_?_['))"
   ]
  },
  {
   "cell_type": "code",
   "execution_count": 18,
   "metadata": {},
   "outputs": [
    {
     "name": "stdout",
     "output_type": "stream",
     "text": [
      "['temp/dir/987.jpg']\n"
     ]
    }
   ],
   "source": [
    "print(glob.glob('temp/*/*.jpg'))"
   ]
  },
  {
   "cell_type": "code",
   "execution_count": 19,
   "metadata": {},
   "outputs": [
    {
     "name": "stdout",
     "output_type": "stream",
     "text": [
      "['temp/12.jpg', 'temp/aaa.jpg', 'temp/dir/987.jpg', 'temp/dir/sub_dir1/ccc.jpg', 'temp/dir/sub_dir2/ddd.jpg']\n"
     ]
    }
   ],
   "source": [
    "print(glob.glob('temp/**/*.jpg', recursive=True))"
   ]
  },
  {
   "cell_type": "code",
   "execution_count": 20,
   "metadata": {},
   "outputs": [
    {
     "name": "stdout",
     "output_type": "stream",
     "text": [
      "['temp/', 'temp/[x].txt', 'temp/12.jpg', 'temp/aaa.jpg', 'temp/dir', 'temp/dir/987.jpg', 'temp/dir/sub_dir1', 'temp/dir/sub_dir1/ccc.jpg', 'temp/dir/sub_dir1/98.txt', 'temp/dir/bbb.txt', 'temp/dir/sub_dir2', 'temp/dir/sub_dir2/ddd.jpg', 'temp/1.txt', 'temp/123.txt']\n"
     ]
    }
   ],
   "source": [
    "print(glob.glob('temp/**', recursive=True))"
   ]
  },
  {
   "cell_type": "code",
   "execution_count": 21,
   "metadata": {},
   "outputs": [
    {
     "name": "stdout",
     "output_type": "stream",
     "text": [
      "['temp/[x].txt', 'temp/1.txt', 'temp/123.txt']\n"
     ]
    }
   ],
   "source": [
    "print(glob.glob('temp/*.txt'))"
   ]
  },
  {
   "cell_type": "code",
   "execution_count": 22,
   "metadata": {},
   "outputs": [
    {
     "name": "stdout",
     "output_type": "stream",
     "text": [
      "['[x].txt', '1.txt', '123.txt']\n"
     ]
    }
   ],
   "source": [
    "print(glob.glob('*.txt', root_dir='temp'))"
   ]
  },
  {
   "cell_type": "code",
   "execution_count": 23,
   "metadata": {},
   "outputs": [
    {
     "name": "stdout",
     "output_type": "stream",
     "text": [
      "['temp/[x].txt', 'temp/12.jpg', 'temp/aaa.jpg', 'temp/dir/987.jpg', 'temp/dir/sub_dir1/ccc.jpg', 'temp/dir/sub_dir1/98.txt', 'temp/dir/bbb.txt', 'temp/dir/sub_dir2/ddd.jpg', 'temp/1.txt', 'temp/123.txt']\n"
     ]
    }
   ],
   "source": [
    "print([p for p in glob.glob('temp/**', recursive=True) if os.path.isfile(p)])"
   ]
  },
  {
   "cell_type": "code",
   "execution_count": 24,
   "metadata": {},
   "outputs": [
    {
     "name": "stdout",
     "output_type": "stream",
     "text": [
      "['[x].txt', '12.jpg', 'aaa.jpg', '987.jpg', 'ccc.jpg', '98.txt', 'bbb.txt', 'ddd.jpg', '1.txt', '123.txt']\n"
     ]
    }
   ],
   "source": [
    "print([os.path.basename(p) for p in glob.glob('temp/**', recursive=True)\n",
    "       if os.path.isfile(p)])"
   ]
  },
  {
   "cell_type": "code",
   "execution_count": 25,
   "metadata": {},
   "outputs": [
    {
     "name": "stdout",
     "output_type": "stream",
     "text": [
      "['[x].txt', '12.jpg', 'aaa.jpg', 'dir/987.jpg', 'dir/sub_dir1/ccc.jpg', 'dir/sub_dir1/98.txt', 'dir/bbb.txt', 'dir/sub_dir2/ddd.jpg', '1.txt', '123.txt']\n"
     ]
    }
   ],
   "source": [
    "print([p for p in glob.glob('**', recursive=True, root_dir='temp')\n",
    "       if os.path.isfile(os.path.join('temp', p))])"
   ]
  },
  {
   "cell_type": "code",
   "execution_count": 26,
   "metadata": {},
   "outputs": [
    {
     "name": "stdout",
     "output_type": "stream",
     "text": [
      "['temp/', 'temp/dir/', 'temp/dir/sub_dir1/', 'temp/dir/sub_dir2/']\n"
     ]
    }
   ],
   "source": [
    "print(glob.glob('temp/**/', recursive=True))"
   ]
  },
  {
   "cell_type": "code",
   "execution_count": 27,
   "metadata": {},
   "outputs": [
    {
     "name": "stdout",
     "output_type": "stream",
     "text": [
      "['temp/dir/', 'temp/dir/sub_dir1/', 'temp/dir/sub_dir2/']\n"
     ]
    }
   ],
   "source": [
    "print(glob.glob('temp/*/**/', recursive=True))"
   ]
  },
  {
   "cell_type": "code",
   "execution_count": 28,
   "metadata": {},
   "outputs": [
    {
     "name": "stdout",
     "output_type": "stream",
     "text": [
      "['dir/', 'dir/sub_dir1/', 'dir/sub_dir2/']\n"
     ]
    }
   ],
   "source": [
    "print(glob.glob('**/', recursive=True, root_dir='temp'))"
   ]
  },
  {
   "cell_type": "code",
   "execution_count": 29,
   "metadata": {},
   "outputs": [
    {
     "name": "stdout",
     "output_type": "stream",
     "text": [
      "['temp', 'temp/dir', 'temp/dir/sub_dir1', 'temp/dir/sub_dir2']\n"
     ]
    }
   ],
   "source": [
    "print([p.rstrip(os.sep) for p in glob.glob('temp/**/', recursive=True)])"
   ]
  },
  {
   "cell_type": "code",
   "execution_count": 30,
   "metadata": {},
   "outputs": [
    {
     "name": "stdout",
     "output_type": "stream",
     "text": [
      "['temp', 'dir', 'sub_dir1', 'sub_dir2']\n"
     ]
    }
   ],
   "source": [
    "print([os.path.basename(p.rstrip(os.sep)) for p\n",
    "       in glob.glob(os.path.join('temp/**/'), recursive=True)])"
   ]
  },
  {
   "cell_type": "code",
   "execution_count": 31,
   "metadata": {},
   "outputs": [
    {
     "name": "stdout",
     "output_type": "stream",
     "text": [
      "['temp/', 'dir/', 'sub_dir1/', 'sub_dir2/']\n"
     ]
    }
   ],
   "source": [
    "print([os.path.basename(p.rstrip(os.sep)) + os.sep for p\n",
    "       in glob.glob(os.path.join('temp/**/'), recursive=True)])"
   ]
  },
  {
   "cell_type": "code",
   "execution_count": 32,
   "metadata": {},
   "outputs": [],
   "source": [
    "import re"
   ]
  },
  {
   "cell_type": "code",
   "execution_count": 33,
   "metadata": {},
   "outputs": [
    {
     "name": "stdout",
     "output_type": "stream",
     "text": [
      "['temp/dir/sub_dir1/98.txt', 'temp/1.txt', 'temp/123.txt']\n"
     ]
    }
   ],
   "source": [
    "print([p for p in glob.glob('temp/**', recursive=True)\n",
    "       if re.search(r'\\d+\\.txt', p)])"
   ]
  },
  {
   "cell_type": "code",
   "execution_count": 34,
   "metadata": {},
   "outputs": [
    {
     "name": "stdout",
     "output_type": "stream",
     "text": [
      "['temp/[x].txt', 'temp/aaa.jpg', 'temp/dir/sub_dir1/ccc.jpg', 'temp/dir/bbb.txt', 'temp/dir/sub_dir2/ddd.jpg']\n"
     ]
    }
   ],
   "source": [
    "print([p for p in glob.glob('temp/**', recursive=True)\n",
    "       if re.search(r'\\D{3}\\.(txt|jpg)', p)])"
   ]
  },
  {
   "cell_type": "code",
   "execution_count": 35,
   "metadata": {},
   "outputs": [
    {
     "name": "stdout",
     "output_type": "stream",
     "text": [
      "<class 'generator'>\n"
     ]
    }
   ],
   "source": [
    "print(type(glob.iglob('temp/*.txt')))"
   ]
  },
  {
   "cell_type": "code",
   "execution_count": 36,
   "metadata": {},
   "outputs": [
    {
     "name": "stdout",
     "output_type": "stream",
     "text": [
      "temp/[x].txt\n",
      "temp/1.txt\n",
      "temp/123.txt\n"
     ]
    }
   ],
   "source": [
    "for p in glob.iglob('temp/*.txt'):\n",
    "    print(p)"
   ]
  },
  {
   "cell_type": "code",
   "execution_count": 37,
   "metadata": {},
   "outputs": [],
   "source": [
    "import shutil\n",
    "\n",
    "shutil.rmtree('temp')"
   ]
  }
 ],
 "metadata": {
  "kernelspec": {
   "display_name": "Python 3",
   "language": "python",
   "name": "python3"
  },
  "language_info": {
   "codemirror_mode": {
    "name": "ipython",
    "version": 3
   },
   "file_extension": ".py",
   "mimetype": "text/x-python",
   "name": "python",
   "nbconvert_exporter": "python",
   "pygments_lexer": "ipython3",
   "version": "3.12.4"
  }
 },
 "nbformat": 4,
 "nbformat_minor": 2
}
