{
 "cells": [
  {
   "cell_type": "code",
   "execution_count": 1,
   "id": "7325d781",
   "metadata": {},
   "outputs": [],
   "source": [
    "import pickle"
   ]
  },
  {
   "cell_type": "code",
   "execution_count": 2,
   "id": "ad254f4c",
   "metadata": {},
   "outputs": [],
   "source": [
    "d = {'int': 100, 'bool': False, 'list': [0, 1, 2]}"
   ]
  },
  {
   "cell_type": "code",
   "execution_count": 3,
   "id": "a6728d1b",
   "metadata": {},
   "outputs": [],
   "source": [
    "with open('data/temp/my_dict.pkl', 'wb') as f:\n",
    "    pickle.dump(d, f)"
   ]
  },
  {
   "cell_type": "code",
   "execution_count": 4,
   "id": "e3e21eec",
   "metadata": {},
   "outputs": [],
   "source": [
    "with open('data/temp/my_dict.pkl', 'rb') as f:\n",
    "    d_load = pickle.load(f)"
   ]
  },
  {
   "cell_type": "code",
   "execution_count": 5,
   "id": "9f1150e8",
   "metadata": {},
   "outputs": [
    {
     "name": "stdout",
     "output_type": "stream",
     "text": [
      "{'int': 100, 'bool': False, 'list': [0, 1, 2]}\n"
     ]
    }
   ],
   "source": [
    "print(d_load)"
   ]
  },
  {
   "cell_type": "code",
   "execution_count": 6,
   "id": "3654066b",
   "metadata": {},
   "outputs": [
    {
     "name": "stdout",
     "output_type": "stream",
     "text": [
      "b'\\x80\\x04\\x95&\\x00\\x00\\x00\\x00\\x00\\x00\\x00}\\x94(\\x8c\\x03int\\x94Kd\\x8c\\x04bool\\x94\\x89\\x8c\\x04list\\x94]\\x94(K\\x00K\\x01K\\x02eu.'\n"
     ]
    }
   ],
   "source": [
    "b = pickle.dumps(d)\n",
    "print(b)"
   ]
  },
  {
   "cell_type": "code",
   "execution_count": 7,
   "id": "e82ac8a1",
   "metadata": {},
   "outputs": [
    {
     "name": "stdout",
     "output_type": "stream",
     "text": [
      "<class 'bytes'>\n"
     ]
    }
   ],
   "source": [
    "print(type(b))"
   ]
  },
  {
   "cell_type": "code",
   "execution_count": 8,
   "id": "257b3c46",
   "metadata": {},
   "outputs": [
    {
     "name": "stdout",
     "output_type": "stream",
     "text": [
      "{'int': 100, 'bool': False, 'list': [0, 1, 2]}\n"
     ]
    }
   ],
   "source": [
    "d_loads = pickle.loads(b)\n",
    "print(d_loads)"
   ]
  },
  {
   "cell_type": "code",
   "execution_count": 9,
   "id": "3a0ef7b8",
   "metadata": {},
   "outputs": [],
   "source": [
    "import json"
   ]
  },
  {
   "cell_type": "code",
   "execution_count": 10,
   "id": "eccc03f1",
   "metadata": {},
   "outputs": [],
   "source": [
    "d = {'int': 100, 'bool': False, 'list': [0, 1, 2]}"
   ]
  },
  {
   "cell_type": "code",
   "execution_count": 11,
   "id": "b1c0a8e1",
   "metadata": {},
   "outputs": [
    {
     "name": "stdout",
     "output_type": "stream",
     "text": [
      "{'int': 100, 'bool': False, 'list': [0, 1, 2]}\n"
     ]
    }
   ],
   "source": [
    "j = json.dumps(d)\n",
    "d_json_loads = json.loads(j)\n",
    "print(d_json_loads)"
   ]
  },
  {
   "cell_type": "code",
   "execution_count": 12,
   "id": "881e88eb",
   "metadata": {},
   "outputs": [],
   "source": [
    "d['set'] = {0, 1, 2}\n",
    "d['complex'] = 1 + 2j"
   ]
  },
  {
   "cell_type": "code",
   "execution_count": 13,
   "id": "bad7440d",
   "metadata": {},
   "outputs": [],
   "source": [
    "# j = json.dumps(d)\n",
    "# TypeError: Object of type set is not JSON serializable"
   ]
  },
  {
   "cell_type": "code",
   "execution_count": 14,
   "id": "6cb88a4e",
   "metadata": {},
   "outputs": [
    {
     "name": "stdout",
     "output_type": "stream",
     "text": [
      "{'int': 100, 'bool': False, 'list': [0, 1, 2], 'set': {0, 1, 2}, 'complex': (1+2j)}\n"
     ]
    }
   ],
   "source": [
    "b = pickle.dumps(d)\n",
    "d_pickle_loads = pickle.loads(b)\n",
    "print(d_pickle_loads)"
   ]
  },
  {
   "cell_type": "code",
   "execution_count": 15,
   "id": "d058259d",
   "metadata": {},
   "outputs": [],
   "source": [
    "class MyClass:\n",
    "    def my_func(self):\n",
    "        print('This is MyClass.')"
   ]
  },
  {
   "cell_type": "code",
   "execution_count": 16,
   "id": "03f696c0",
   "metadata": {},
   "outputs": [],
   "source": [
    "mc = MyClass()"
   ]
  },
  {
   "cell_type": "code",
   "execution_count": 17,
   "id": "aeee9d8e",
   "metadata": {},
   "outputs": [],
   "source": [
    "mc.a = 100"
   ]
  },
  {
   "cell_type": "code",
   "execution_count": 18,
   "id": "7063fdef",
   "metadata": {},
   "outputs": [],
   "source": [
    "b = pickle.dumps(mc)\n",
    "mc_loads = pickle.loads(b)"
   ]
  },
  {
   "cell_type": "code",
   "execution_count": 19,
   "id": "1f846f79",
   "metadata": {},
   "outputs": [
    {
     "name": "stdout",
     "output_type": "stream",
     "text": [
      "This is MyClass.\n"
     ]
    }
   ],
   "source": [
    "mc_loads.my_func()"
   ]
  },
  {
   "cell_type": "code",
   "execution_count": 20,
   "id": "142c9347",
   "metadata": {},
   "outputs": [
    {
     "name": "stdout",
     "output_type": "stream",
     "text": [
      "100\n"
     ]
    }
   ],
   "source": [
    "print(mc.a)"
   ]
  },
  {
   "cell_type": "code",
   "execution_count": 21,
   "id": "e8d3008f",
   "metadata": {},
   "outputs": [],
   "source": [
    "del MyClass"
   ]
  },
  {
   "cell_type": "code",
   "execution_count": 22,
   "id": "e6ff5013",
   "metadata": {},
   "outputs": [],
   "source": [
    "# mc_loads = pickle.loads(b)\n",
    "# AttributeError: Can't get attribute 'MyClass' on <module '__main__'>"
   ]
  },
  {
   "cell_type": "code",
   "execution_count": 23,
   "id": "88ef7622",
   "metadata": {},
   "outputs": [],
   "source": [
    "class MyClass:\n",
    "    def my_func(self):\n",
    "        print('This is the newly defined MyClass.')"
   ]
  },
  {
   "cell_type": "code",
   "execution_count": 24,
   "id": "05ebdb69",
   "metadata": {},
   "outputs": [],
   "source": [
    "mc_loads = pickle.loads(b)"
   ]
  },
  {
   "cell_type": "code",
   "execution_count": 25,
   "id": "edd49821",
   "metadata": {},
   "outputs": [
    {
     "name": "stdout",
     "output_type": "stream",
     "text": [
      "This is the newly defined MyClass.\n"
     ]
    }
   ],
   "source": [
    "mc_loads.my_func()"
   ]
  },
  {
   "cell_type": "code",
   "execution_count": 26,
   "id": "47b24a0c",
   "metadata": {},
   "outputs": [
    {
     "name": "stdout",
     "output_type": "stream",
     "text": [
      "100\n"
     ]
    }
   ],
   "source": [
    "print(mc_loads.a)"
   ]
  }
 ],
 "metadata": {
  "kernelspec": {
   "display_name": "Python 3",
   "language": "python",
   "name": "python3"
  },
  "language_info": {
   "codemirror_mode": {
    "name": "ipython",
    "version": 3
   },
   "file_extension": ".py",
   "mimetype": "text/x-python",
   "name": "python",
   "nbconvert_exporter": "python",
   "pygments_lexer": "ipython3",
   "version": "3.12.4"
  }
 },
 "nbformat": 4,
 "nbformat_minor": 5
}
